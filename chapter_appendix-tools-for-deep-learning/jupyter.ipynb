{
  "cells": [
    {
      "cell_type": "markdown",
      "metadata": {
        "id": "view-in-github",
        "colab_type": "text"
      },
      "source": [
        "<a href=\"https://colab.research.google.com/github/adarshmaurya54/python_programming/blob/master/chapter_appendix-tools-for-deep-learning/jupyter.ipynb\" target=\"_parent\"><img src=\"https://colab.research.google.com/assets/colab-badge.svg\" alt=\"Open In Colab\"/></a>"
      ]
    },
    {
      "cell_type": "code",
      "source": [
        "# Difference between"
      ],
      "metadata": {
        "id": "mQucJ3rLhE-8"
      },
      "id": "mQucJ3rLhE-8",
      "execution_count": 3,
      "outputs": []
    },
    {
      "cell_type": "code",
      "source": [
        "#Dictionary methods\n",
        "my_dict = {\n",
        "    \"name\": \"Adarsh\",\n",
        "    \"age\": 22,\n",
        "    \"course\": \"MCA\"\n",
        "}\n",
        "\n",
        "# keys() method\n",
        "print(\"Keys:\", my_dict.keys())\n",
        "\n",
        "# values() method\n",
        "print(\"Values:\", my_dict.values())\n",
        "\n",
        "# items() method\n",
        "print(\"Items:\", my_dict.items())\n",
        "\n",
        "# get() method\n",
        "print(\"Get name:\", my_dict.get(\"name\"))\n",
        "\n",
        "# update() method\n",
        "my_dict.update({\"age\": 23})\n",
        "print(\"After update:\", my_dict)\n",
        "\n",
        "# pop() method\n",
        "my_dict.pop(\"course\")\n",
        "print(\"After pop:\", my_dict)\n",
        "\n",
        "# popitem() method\n",
        "last_item = my_dict.popitem()\n",
        "print(\"Popped item:\", last_item)\n",
        "print(\"After popitem:\", my_dict)\n",
        "\n",
        "# clear() method\n",
        "copy_dict = my_dict.copy()\n",
        "copy_dict.clear()\n",
        "print(\"After clear:\", copy_dict)\n",
        "\n",
        "# fromkeys() method\n",
        "keys = ['a', 'b', 'c']\n",
        "new_dict = dict.fromkeys(keys, 0)\n",
        "print(\"From keys:\", new_dict)\n",
        "\n",
        "# setdefault() method\n",
        "my_dict.setdefault(\"city\", \"Delhi\")\n",
        "print(\"After setdefault:\", my_dict)\n",
        "\n",
        "# copy() method\n",
        "copied = my_dict.copy()\n",
        "print(\"Copied dict:\", copied)"
      ],
      "metadata": {
        "id": "dejY8mrCiwX-"
      },
      "id": "dejY8mrCiwX-",
      "execution_count": null,
      "outputs": []
    }
  ],
  "metadata": {
    "kernelspec": {
      "display_name": "Python 3",
      "name": "python3"
    },
    "language_info": {
      "name": "python"
    },
    "required_libs": [],
    "colab": {
      "provenance": [],
      "include_colab_link": true
    }
  },
  "nbformat": 4,
  "nbformat_minor": 5
}